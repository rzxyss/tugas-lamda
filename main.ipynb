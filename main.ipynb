{
 "cells": [
  {
   "cell_type": "code",
   "execution_count": null,
   "metadata": {},
   "outputs": [],
   "source": [
    "import pandas as pd\n",
    "import matplotlib.pyplot as plt\n",
    "\n",
    "df_sampah = pd.read_csv('data_sampah.csv')\n",
    "\n",
    "# plt.figure(figsize=(5,2))\n",
    "# plt.barh(df_sampah['nama_kabupaten_kota'], df_sampah['jumlah_produksi_sampah'], color='skyblue')\n",
    "# plt.xlabel('Jumlah Produksi Sampah (TON)')\n",
    "# plt.title('Produksi Sampah Di Jawa Barat')\n",
    "# plt.gca().invert_yaxis()\n",
    "# plt.tight_layout()\n",
    "# plt.show()\n"
   ]
  },
  {
   "cell_type": "code",
   "execution_count": null,
   "metadata": {},
   "outputs": [],
   "source": [
    "total_sampah = df_sampah.groupby(['nama_kabupaten_kota', 'tahun'])['jumlah_produksi_sampah'].sum().reset_index()\n",
    "plt.figure(figsize=(12,8))\n",
    "plt.barh(total_sampah['nama_kabupaten_kota'], total_sampah['jumlah_produksi_sampah'], color='skyblue')\n",
    "plt.xlabel('Jumlah Produksi Sampah (TON)')\n",
    "plt.title('Produksi Sampah Di Jawa Barat')\n",
    "plt.gca().invert_yaxis()\n",
    "plt.tight_layout()\n",
    "plt.show()"
   ]
  },
  {
   "cell_type": "code",
   "execution_count": 45,
   "metadata": {},
   "outputs": [
    {
     "ename": "TypeError",
     "evalue": "'float' object is not subscriptable",
     "output_type": "error",
     "traceback": [
      "\u001b[1;31m---------------------------------------------------------------------------\u001b[0m",
      "\u001b[1;31mTypeError\u001b[0m                                 Traceback (most recent call last)",
      "Cell \u001b[1;32mIn[45], line 2\u001b[0m\n\u001b[0;32m      1\u001b[0m \u001b[38;5;28;01mfor\u001b[39;00m i, j \u001b[38;5;129;01min\u001b[39;00m total_sampah\u001b[38;5;241m.\u001b[39miterrows():\n\u001b[1;32m----> 2\u001b[0m     \u001b[38;5;28;01mif\u001b[39;00m \u001b[43mj\u001b[49m\u001b[43m[\u001b[49m\u001b[38;5;124;43m'\u001b[39;49m\u001b[38;5;124;43mjumlah_produksi_sampah\u001b[39;49m\u001b[38;5;124;43m'\u001b[39;49m\u001b[43m]\u001b[49m\u001b[43m[\u001b[49m\u001b[43mi\u001b[49m\u001b[43m]\u001b[49m \u001b[38;5;241m>\u001b[39m \u001b[38;5;241m800\u001b[39m :\n\u001b[0;32m      3\u001b[0m         total_sampah[\u001b[38;5;124m'\u001b[39m\u001b[38;5;124mkategori\u001b[39m\u001b[38;5;124m'\u001b[39m] \u001b[38;5;241m=\u001b[39m \u001b[38;5;124m'\u001b[39m\u001b[38;5;124mSampah harus segera ditanggulangi\u001b[39m\u001b[38;5;124m'\u001b[39m\n\u001b[0;32m      4\u001b[0m     \u001b[38;5;28;01melse\u001b[39;00m :\n",
      "\u001b[1;31mTypeError\u001b[0m: 'float' object is not subscriptable"
     ]
    }
   ],
   "source": [
    "for i, j in total_sampah.iterrows():\n",
    "    if j['jumlah_produksi_sampah'] > 800 :\n",
    "        total_sampah['kategori'] = 'Sampah harus segera ditanggulangi'\n",
    "    else :\n",
    "        total_sampah['kategori'] = 'Sampah dalam kategori aman'"
   ]
  }
 ],
 "metadata": {
  "kernelspec": {
   "display_name": "Python 3",
   "language": "python",
   "name": "python3"
  },
  "language_info": {
   "codemirror_mode": {
    "name": "ipython",
    "version": 3
   },
   "file_extension": ".py",
   "mimetype": "text/x-python",
   "name": "python",
   "nbconvert_exporter": "python",
   "pygments_lexer": "ipython3",
   "version": "3.12.5"
  }
 },
 "nbformat": 4,
 "nbformat_minor": 2
}
